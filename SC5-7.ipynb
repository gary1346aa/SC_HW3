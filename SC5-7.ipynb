{
 "cells": [
  {
   "cell_type": "code",
   "execution_count": 20,
   "metadata": {},
   "outputs": [
    {
     "name": "stdout",
     "output_type": "stream",
     "text": [
      "x(0) : 1.000000000\n",
      "x(1) : -1.000000000\n",
      "x(2) : 1.000000000\n",
      "x(3) : -1.000000000\n",
      "x(4) : 1.000000000\n",
      "x(5) : -1.000000000\n",
      "x(6) : 1.000000000\n",
      "x(7) : -1.000000000\n",
      "x(8) : 1.000000000\n",
      "x(9) : -1.000000000\n",
      "x(10) : 1.000000000\n"
     ]
    }
   ],
   "source": [
    "from scipy import misc\n",
    "def f(x):\n",
    "    return x**5 - x**3 - 4*x\n",
    "\n",
    "def g(x):\n",
    "    return 5*x**4 - 3*x**2 - 4\n",
    "\n",
    "x = []\n",
    "x.append(1)\n",
    "\n",
    "for i in range(11):\n",
    "    x.append(x[-1] - f(x[-1])/g(x[-1]))\n",
    "    print(f'x({i}) : {x[-2]:.9f}')"
   ]
  },
  {
   "cell_type": "code",
   "execution_count": 21,
   "metadata": {},
   "outputs": [
    {
     "name": "stdout",
     "output_type": "stream",
     "text": [
      "x(0) : 0.300000000\n",
      "x(1) : 0.010469323\n",
      "x(2) : 0.000000574\n",
      "x(3) : 0.000000000\n",
      "x(4) : 0.000000000\n",
      "x(5) : 0.000000000\n",
      "x(6) : 0.000000000\n",
      "x(7) : 0.000000000\n",
      "x(8) : 0.000000000\n",
      "x(9) : 0.000000000\n",
      "x(10) : 0.000000000\n"
     ]
    }
   ],
   "source": [
    "x = []\n",
    "x.append(0.3)\n",
    "\n",
    "for i in range(11):\n",
    "    x.append(x[-1] - f(x[-1])/g(x[-1]))\n",
    "    print(f'x({i}) : {x[-2]:.9f}')"
   ]
  }
 ],
 "metadata": {
  "kernelspec": {
   "display_name": "Python 3",
   "language": "python",
   "name": "python3"
  },
  "language_info": {
   "codemirror_mode": {
    "name": "ipython",
    "version": 3
   },
   "file_extension": ".py",
   "mimetype": "text/x-python",
   "name": "python",
   "nbconvert_exporter": "python",
   "pygments_lexer": "ipython3",
   "version": "3.6.2"
  }
 },
 "nbformat": 4,
 "nbformat_minor": 2
}
